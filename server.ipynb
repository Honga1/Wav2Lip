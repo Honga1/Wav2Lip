{
  "nbformat": 4,
  "nbformat_minor": 0,
  "metadata": {
    "colab": {
      "name": "server.ipynb",
      "private_outputs": true,
      "provenance": [],
      "toc_visible": true,
      "include_colab_link": true
    },
    "kernelspec": {
      "name": "python3",
      "display_name": "Python 3"
    },
    "accelerator": "GPU"
  },
  "cells": [
    {
      "cell_type": "markdown",
      "metadata": {
        "id": "view-in-github",
        "colab_type": "text"
      },
      "source": [
        "<a href=\"https://colab.research.google.com/github/Honga1/Wav2Lip/blob/master/server.ipynb\" target=\"_parent\"><img src=\"https://colab.research.google.com/assets/colab-badge.svg\" alt=\"Open In Colab\"/></a>"
      ]
    },
    {
      "cell_type": "code",
      "metadata": {
        "id": "1vY6Weye7Gm_"
      },
      "source": [
        "!nvcc --version"
      ],
      "execution_count": null,
      "outputs": []
    },
    {
      "cell_type": "code",
      "metadata": {
        "id": "A8BNhd_31dXu"
      },
      "source": [
        "!rm -rf ./Wav2Lip -f \n",
        "!git clone https://github.com/Honga1/Wav2Lip.git\n",
        "!wget \"https://www.adrianbulat.com/downloads/python-fan/s3fd-619a316812.pth\" -O \"Wav2Lip/src/face_detection/detection/sfd/s3fd.pth\"\n",
        "!gdown --id \"1eCnHIsE7IFx7fcCSQTAfIFylL1I2HA5P\"\n",
        "!mv wav2lip_gan.pth Wav2Lip/src/checkpoints/"
      ],
      "execution_count": null,
      "outputs": []
    },
    {
      "cell_type": "code",
      "metadata": {
        "id": "Ooh28vw-Uvd3"
      },
      "source": [
        "!pip uninstall -y tensorflow tensorflow-gpu\n",
        "!cd Wav2Lip && pip install --quiet -r requirements.txt"
      ],
      "execution_count": null,
      "outputs": []
    },
    {
      "cell_type": "code",
      "metadata": {
        "id": "0ZtTRNXX14jS"
      },
      "source": [
        "!git clone https://github.com/Honga1/three-videos.git\n",
        "!cd three-videos/ && npm install && PUBLIC_URL=\"static\" npm run build\n",
        "!rm -rf ./Wav2Lip/src/static\n",
        "!mkdir ./Wav2Lip/src/static\n",
        "!cp -a ./three-videos/build/* ./Wav2Lip/src/static/"
      ],
      "execution_count": null,
      "outputs": []
    },
    {
      "cell_type": "code",
      "metadata": {
        "id": "95dh5eNL3yyI"
      },
      "source": [
        "from google.colab.output import eval_js\n",
        "print(\"Open this link\")\n",
        "print(eval_js(\"google.colab.kernel.proxyPort(5000)\"))\n",
        "\n",
        "!cd Wav2Lip/src/ && FLASK_APP=app.py python3 app.py --no-debugger --no-reload"
      ],
      "execution_count": null,
      "outputs": []
    }
  ]
}